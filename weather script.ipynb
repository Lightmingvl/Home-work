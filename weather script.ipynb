{
 "cells": [
  {
   "cell_type": "code",
   "execution_count": 1,
   "metadata": {
    "collapsed": false
   },
   "outputs": [
    {
     "name": "stdout",
     "output_type": "stream",
     "text": [
      "Часом дощ\n",
      "Невеликий дощ\n",
      "Невеликий дощ\n",
      "Можливий дощ\n"
     ]
    }
   ],
   "source": [
    "from urllib.request import urlopen\n",
    "from bs4 import BeautifulSoup\n",
    "import re\n",
    "\n",
    "url = 'http://www.accuweather.com/uk/ua/lviv/324561/april-weather/324561?monyr=4/1/2016'\n",
    "response = urlopen(url)\n",
    "html = response.read()\n",
    "\n",
    "\n",
    "selector = 'div.info div.cond'\n",
    "soup = BeautifulSoup(html, \"html.parser\")\n",
    "bills = soup.select(selector)\n",
    "\n",
    "bills\n",
    "\n",
    "for l in bills:\n",
    "    \tif re.match(u\".*(дощ|сніг)\", l.text): print(l.text)"
   ]
  }
 ],
 "metadata": {
  "kernelspec": {
   "display_name": "Python 3",
   "language": "python",
   "name": "python3"
  },
  "language_info": {
   "codemirror_mode": {
    "name": "ipython",
    "version": 3
   },
   "file_extension": ".py",
   "mimetype": "text/x-python",
   "name": "python",
   "nbconvert_exporter": "python",
   "pygments_lexer": "ipython3",
   "version": "3.5.1"
  }
 },
 "nbformat": 4,
 "nbformat_minor": 0
}
